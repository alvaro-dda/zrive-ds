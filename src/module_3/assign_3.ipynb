{
 "cells": [
  {
   "cell_type": "code",
   "execution_count": 1,
   "metadata": {},
   "outputs": [],
   "source": [
    "import pandas as pd\n",
    "import matplotlib.pyplot as plt\n",
    "import random\n",
    "from sklearn.linear_model import LogisticRegression, Ridge, Lasso\n",
    "from sklearn.model_selection import train_test_split, GridSearchCV\n",
    "from sklearn  import metrics\n",
    "from sklearn.metrics import precision_recall_curve, average_precision_score\n",
    "import seaborn as sns\n",
    "\n",
    "random.seed(1)\n",
    "\n",
    "df = pd.read_csv('Datasets_Zrive/feature_frame.csv')\n",
    "df = df.drop(['created_at'], axis=1)"
   ]
  },
  {
   "cell_type": "code",
   "execution_count": 2,
   "metadata": {},
   "outputs": [
    {
     "name": "stdout",
     "output_type": "stream",
     "text": [
      "<class 'pandas.core.frame.DataFrame'>\n",
      "RangeIndex: 2880549 entries, 0 to 2880548\n",
      "Data columns (total 26 columns):\n",
      " #   Column                            Dtype  \n",
      "---  ------                            -----  \n",
      " 0   variant_id                        int64  \n",
      " 1   product_type                      object \n",
      " 2   order_id                          int64  \n",
      " 3   user_id                           int64  \n",
      " 4   order_date                        object \n",
      " 5   user_order_seq                    int64  \n",
      " 6   outcome                           float64\n",
      " 7   ordered_before                    float64\n",
      " 8   abandoned_before                  float64\n",
      " 9   active_snoozed                    float64\n",
      " 10  set_as_regular                    float64\n",
      " 11  normalised_price                  float64\n",
      " 12  discount_pct                      float64\n",
      " 13  vendor                            object \n",
      " 14  global_popularity                 float64\n",
      " 15  count_adults                      float64\n",
      " 16  count_children                    float64\n",
      " 17  count_babies                      float64\n",
      " 18  count_pets                        float64\n",
      " 19  people_ex_baby                    float64\n",
      " 20  days_since_purchase_variant_id    float64\n",
      " 21  avg_days_to_buy_variant_id        float64\n",
      " 22  std_days_to_buy_variant_id        float64\n",
      " 23  days_since_purchase_product_type  float64\n",
      " 24  avg_days_to_buy_product_type      float64\n",
      " 25  std_days_to_buy_product_type      float64\n",
      "dtypes: float64(19), int64(4), object(3)\n",
      "memory usage: 571.4+ MB\n"
     ]
    }
   ],
   "source": [
    "df.info()"
   ]
  },
  {
   "cell_type": "code",
   "execution_count": 3,
   "metadata": {},
   "outputs": [
    {
     "name": "stdout",
     "output_type": "stream",
     "text": [
      "264\n",
      "62\n"
     ]
    }
   ],
   "source": [
    "print(len(df.vendor.value_counts()))\n",
    "print(len(df.product_type.value_counts()))"
   ]
  },
  {
   "cell_type": "code",
   "execution_count": 4,
   "metadata": {},
   "outputs": [],
   "source": [
    "vendor_value_counts = df.vendor.value_counts()\n",
    "product_type_counts = df.product_type.value_counts()\n",
    "\n",
    "df['vendor'] = df['vendor'].apply(lambda x: vendor_value_counts[x]).astype('int32')\n",
    "df['product_type'] = df['product_type'].apply(lambda x: product_type_counts[x]).astype('int32')\n"
   ]
  },
  {
   "cell_type": "code",
   "execution_count": 5,
   "metadata": {},
   "outputs": [
    {
     "data": {
      "text/plain": [
       "2880549"
      ]
     },
     "execution_count": 5,
     "metadata": {},
     "output_type": "execute_result"
    }
   ],
   "source": [
    "df['outcome'] = df['outcome'].astype('int8')\n",
    "df['order_date'] = pd.to_datetime(df['order_date'])\n",
    "conversion_factor = 1e-9\n",
    "df['order_date'] = df['order_date'].astype('int64').astype('float64') * conversion_factor\n",
    "len(df)"
   ]
  },
  {
   "cell_type": "code",
   "execution_count": 6,
   "metadata": {},
   "outputs": [
    {
     "data": {
      "text/html": [
       "<div>\n",
       "<style scoped>\n",
       "    .dataframe tbody tr th:only-of-type {\n",
       "        vertical-align: middle;\n",
       "    }\n",
       "\n",
       "    .dataframe tbody tr th {\n",
       "        vertical-align: top;\n",
       "    }\n",
       "\n",
       "    .dataframe thead th {\n",
       "        text-align: right;\n",
       "    }\n",
       "</style>\n",
       "<table border=\"1\" class=\"dataframe\">\n",
       "  <thead>\n",
       "    <tr style=\"text-align: right;\">\n",
       "      <th></th>\n",
       "      <th>outcome</th>\n",
       "      <th>variant_id</th>\n",
       "      <th>order_id</th>\n",
       "      <th>user_id</th>\n",
       "      <th>product_type</th>\n",
       "      <th>order_date</th>\n",
       "      <th>user_order_seq</th>\n",
       "      <th>ordered_before</th>\n",
       "      <th>abandoned_before</th>\n",
       "      <th>active_snoozed</th>\n",
       "      <th>...</th>\n",
       "      <th>count_children</th>\n",
       "      <th>count_babies</th>\n",
       "      <th>count_pets</th>\n",
       "      <th>people_ex_baby</th>\n",
       "      <th>days_since_purchase_variant_id</th>\n",
       "      <th>avg_days_to_buy_variant_id</th>\n",
       "      <th>std_days_to_buy_variant_id</th>\n",
       "      <th>days_since_purchase_product_type</th>\n",
       "      <th>avg_days_to_buy_product_type</th>\n",
       "      <th>std_days_to_buy_product_type</th>\n",
       "    </tr>\n",
       "  </thead>\n",
       "  <tbody>\n",
       "    <tr>\n",
       "      <th>0</th>\n",
       "      <td>0</td>\n",
       "      <td>33826472919172</td>\n",
       "      <td>2807985930372</td>\n",
       "      <td>3482464092292</td>\n",
       "      <td>128098</td>\n",
       "      <td>1.601856e+09</td>\n",
       "      <td>3</td>\n",
       "      <td>0.0</td>\n",
       "      <td>0.0</td>\n",
       "      <td>0.0</td>\n",
       "      <td>...</td>\n",
       "      <td>0.0</td>\n",
       "      <td>0.0</td>\n",
       "      <td>0.0</td>\n",
       "      <td>2.0</td>\n",
       "      <td>33.0</td>\n",
       "      <td>42.0</td>\n",
       "      <td>31.134053</td>\n",
       "      <td>30.0</td>\n",
       "      <td>30.0</td>\n",
       "      <td>24.27618</td>\n",
       "    </tr>\n",
       "    <tr>\n",
       "      <th>1</th>\n",
       "      <td>0</td>\n",
       "      <td>33826472919172</td>\n",
       "      <td>2808027644036</td>\n",
       "      <td>3466586718340</td>\n",
       "      <td>128098</td>\n",
       "      <td>1.601856e+09</td>\n",
       "      <td>2</td>\n",
       "      <td>0.0</td>\n",
       "      <td>0.0</td>\n",
       "      <td>0.0</td>\n",
       "      <td>...</td>\n",
       "      <td>0.0</td>\n",
       "      <td>0.0</td>\n",
       "      <td>0.0</td>\n",
       "      <td>2.0</td>\n",
       "      <td>33.0</td>\n",
       "      <td>42.0</td>\n",
       "      <td>31.134053</td>\n",
       "      <td>30.0</td>\n",
       "      <td>30.0</td>\n",
       "      <td>24.27618</td>\n",
       "    </tr>\n",
       "    <tr>\n",
       "      <th>2</th>\n",
       "      <td>0</td>\n",
       "      <td>33826472919172</td>\n",
       "      <td>2808099078276</td>\n",
       "      <td>3481384026244</td>\n",
       "      <td>128098</td>\n",
       "      <td>1.601856e+09</td>\n",
       "      <td>4</td>\n",
       "      <td>0.0</td>\n",
       "      <td>0.0</td>\n",
       "      <td>0.0</td>\n",
       "      <td>...</td>\n",
       "      <td>0.0</td>\n",
       "      <td>0.0</td>\n",
       "      <td>0.0</td>\n",
       "      <td>2.0</td>\n",
       "      <td>33.0</td>\n",
       "      <td>42.0</td>\n",
       "      <td>31.134053</td>\n",
       "      <td>30.0</td>\n",
       "      <td>30.0</td>\n",
       "      <td>24.27618</td>\n",
       "    </tr>\n",
       "    <tr>\n",
       "      <th>3</th>\n",
       "      <td>0</td>\n",
       "      <td>33826472919172</td>\n",
       "      <td>2808393957508</td>\n",
       "      <td>3291363377284</td>\n",
       "      <td>128098</td>\n",
       "      <td>1.601942e+09</td>\n",
       "      <td>2</td>\n",
       "      <td>0.0</td>\n",
       "      <td>0.0</td>\n",
       "      <td>0.0</td>\n",
       "      <td>...</td>\n",
       "      <td>0.0</td>\n",
       "      <td>0.0</td>\n",
       "      <td>0.0</td>\n",
       "      <td>2.0</td>\n",
       "      <td>33.0</td>\n",
       "      <td>42.0</td>\n",
       "      <td>31.134053</td>\n",
       "      <td>30.0</td>\n",
       "      <td>30.0</td>\n",
       "      <td>24.27618</td>\n",
       "    </tr>\n",
       "    <tr>\n",
       "      <th>4</th>\n",
       "      <td>0</td>\n",
       "      <td>33826472919172</td>\n",
       "      <td>2808429314180</td>\n",
       "      <td>3537167515780</td>\n",
       "      <td>128098</td>\n",
       "      <td>1.601942e+09</td>\n",
       "      <td>3</td>\n",
       "      <td>0.0</td>\n",
       "      <td>0.0</td>\n",
       "      <td>0.0</td>\n",
       "      <td>...</td>\n",
       "      <td>0.0</td>\n",
       "      <td>0.0</td>\n",
       "      <td>0.0</td>\n",
       "      <td>2.0</td>\n",
       "      <td>33.0</td>\n",
       "      <td>42.0</td>\n",
       "      <td>31.134053</td>\n",
       "      <td>30.0</td>\n",
       "      <td>30.0</td>\n",
       "      <td>24.27618</td>\n",
       "    </tr>\n",
       "  </tbody>\n",
       "</table>\n",
       "<p>5 rows × 26 columns</p>\n",
       "</div>"
      ],
      "text/plain": [
       "   outcome      variant_id       order_id        user_id  product_type  \\\n",
       "0        0  33826472919172  2807985930372  3482464092292        128098   \n",
       "1        0  33826472919172  2808027644036  3466586718340        128098   \n",
       "2        0  33826472919172  2808099078276  3481384026244        128098   \n",
       "3        0  33826472919172  2808393957508  3291363377284        128098   \n",
       "4        0  33826472919172  2808429314180  3537167515780        128098   \n",
       "\n",
       "     order_date  user_order_seq  ordered_before  abandoned_before  \\\n",
       "0  1.601856e+09               3             0.0               0.0   \n",
       "1  1.601856e+09               2             0.0               0.0   \n",
       "2  1.601856e+09               4             0.0               0.0   \n",
       "3  1.601942e+09               2             0.0               0.0   \n",
       "4  1.601942e+09               3             0.0               0.0   \n",
       "\n",
       "   active_snoozed  ...  count_children  count_babies  count_pets  \\\n",
       "0             0.0  ...             0.0           0.0         0.0   \n",
       "1             0.0  ...             0.0           0.0         0.0   \n",
       "2             0.0  ...             0.0           0.0         0.0   \n",
       "3             0.0  ...             0.0           0.0         0.0   \n",
       "4             0.0  ...             0.0           0.0         0.0   \n",
       "\n",
       "   people_ex_baby  days_since_purchase_variant_id  avg_days_to_buy_variant_id  \\\n",
       "0             2.0                            33.0                        42.0   \n",
       "1             2.0                            33.0                        42.0   \n",
       "2             2.0                            33.0                        42.0   \n",
       "3             2.0                            33.0                        42.0   \n",
       "4             2.0                            33.0                        42.0   \n",
       "\n",
       "   std_days_to_buy_variant_id  days_since_purchase_product_type  \\\n",
       "0                   31.134053                              30.0   \n",
       "1                   31.134053                              30.0   \n",
       "2                   31.134053                              30.0   \n",
       "3                   31.134053                              30.0   \n",
       "4                   31.134053                              30.0   \n",
       "\n",
       "   avg_days_to_buy_product_type  std_days_to_buy_product_type  \n",
       "0                          30.0                      24.27618  \n",
       "1                          30.0                      24.27618  \n",
       "2                          30.0                      24.27618  \n",
       "3                          30.0                      24.27618  \n",
       "4                          30.0                      24.27618  \n",
       "\n",
       "[5 rows x 26 columns]"
      ]
     },
     "execution_count": 6,
     "metadata": {},
     "output_type": "execute_result"
    }
   ],
   "source": [
    "new_order = df.columns.to_list()\n",
    "new_order.remove('outcome')\n",
    "new_order.remove('product_type')\n",
    "new_order = ['outcome'] + new_order[:3] + ['product_type'] + new_order[3:]\n",
    "df = df[new_order]\n",
    "df.head()"
   ]
  },
  {
   "cell_type": "code",
   "execution_count": 7,
   "metadata": {},
   "outputs": [
    {
     "name": "stdout",
     "output_type": "stream",
     "text": [
      "3446\n"
     ]
    }
   ],
   "source": [
    "df_orders = df.groupby(by='order_id')['outcome'].sum()\n",
    "print(len(df_orders))\n",
    "transac_5_items = df_orders[df_orders>5].index.to_list()\n",
    "\n",
    "df_clean = df[df['order_id'].isin(transac_5_items)]"
   ]
  },
  {
   "cell_type": "code",
   "execution_count": 8,
   "metadata": {},
   "outputs": [],
   "source": [
    "\n",
    "random.shuffle(transac_5_items)\n",
    "\n",
    "train_data_orders =  transac_5_items[:int(len(transac_5_items)*0.7)]\n",
    "val_data_orders = transac_5_items[int(len(transac_5_items)*0.7):int(len(transac_5_items)*0.9)]\n",
    "test_data_orders = transac_5_items[int(len(transac_5_items)*0.9):]"
   ]
  },
  {
   "cell_type": "code",
   "execution_count": 9,
   "metadata": {},
   "outputs": [],
   "source": [
    "train_data_x = df[df['order_id'].isin(train_data_orders)].iloc[:,4:]\n",
    "train_data_y = df[df['order_id'].isin(train_data_orders)].iloc[:,0]\n",
    "val_data_x = df[df['order_id'].isin(val_data_orders)].iloc[:,4:]\n",
    "val_data_y = df[df['order_id'].isin(val_data_orders)].iloc[:,0]\n",
    "test_data_x = df[df['order_id'].isin(test_data_orders)].iloc[:,4:]\n",
    "test_data_y = df[df['order_id'].isin(test_data_orders)].iloc[:,0]"
   ]
  },
  {
   "cell_type": "code",
   "execution_count": 18,
   "metadata": {},
   "outputs": [
    {
     "data": {
      "text/plain": [
       "0.9853157520586087"
      ]
     },
     "execution_count": 18,
     "metadata": {},
     "output_type": "execute_result"
    }
   ],
   "source": [
    "\n",
    "log_model = LogisticRegression(penalty= None, n_jobs=-1, class_weight='balanced')\n",
    "\n",
    "log_model.fit(train_data_x,train_data_y)\n",
    "\n",
    "y_pred = log_model.predict(val_data_x)\n",
    "y_pred_prob = log_model.predict_proba(val_data_x)[:,1]\n",
    "\n",
    "metrics.accuracy_score(val_data_y, y_pred)"
   ]
  },
  {
   "cell_type": "code",
   "execution_count": 19,
   "metadata": {},
   "outputs": [
    {
     "name": "stdout",
     "output_type": "stream",
     "text": [
      "0.5250280455551812\n"
     ]
    },
    {
     "data": {
      "image/png": "[encoded data removed]",
      "text/plain": [
       "<Figure size 640x480 with 1 Axes>"
      ]
     },
     "metadata": {},
     "output_type": "display_data"
    }
   ],
   "source": [
    "fpr, tpr, thresholds = metrics.roc_curve(val_data_y, y_pred_prob)\n",
    "roc_auc = metrics.auc(fpr, tpr)\n",
    "print(roc_auc)\n",
    "plt.figure()\n",
    "plt.plot(fpr, tpr, color='darkorange', lw=2, label=f'ROC curve (AUC = {roc_auc:.2f})')\n",
    "plt.plot([0, 1], [0, 1], color='navy', lw=2, linestyle='--')\n",
    "plt.xlim([0.0, 1.0])\n",
    "plt.ylim([0.0, 1.05])\n",
    "plt.xlabel('False Positive Rate')\n",
    "plt.ylabel('True Positive Rate')\n",
    "plt.title('Receiver Operating Characteristic (ROC) Curve')\n",
    "plt.legend(loc='lower right')\n",
    "plt.show()"
   ]
  },
  {
   "cell_type": "code",
   "execution_count": 21,
   "metadata": {},
   "outputs": [
    {
     "data": {
      "text/plain": [
       "array([[399179,      0],\n",
       "       [  5949,      0]])"
      ]
     },
     "execution_count": 21,
     "metadata": {},
     "output_type": "execute_result"
    }
   ],
   "source": [
    "metrics.confusion_matrix(val_data_y, y_pred)"
   ]
  },
  {
   "cell_type": "code",
   "execution_count": 13,
   "metadata": {},
   "outputs": [
    {
     "name": "stdout",
     "output_type": "stream",
     "text": [
      "{'C': 0.0001, 'penalty': 'l2'}\n"
     ]
    },
    {
     "data": {
      "text/plain": [
       "0.9853157520586087"
      ]
     },
     "execution_count": 13,
     "metadata": {},
     "output_type": "execute_result"
    }
   ],
   "source": [
    "param_grid = {\n",
    "    'C': [10 ** i for i in range(-4,2)],\n",
    "    'penalty': ['l2']\n",
    "}\n",
    "\n",
    "log_model_l1 = LogisticRegression(solver='lbfgs',n_jobs=-1, class_weight='balanced')\n",
    "\n",
    "grid_search_l1 = GridSearchCV(log_model_l1, param_grid, cv=5, scoring='accuracy').fit(train_data_x,train_data_y)\n",
    "\n",
    "print(grid_search_l1.best_params_)\n",
    "\n",
    "y_pred_prob_l1 = grid_search_l1.predict_proba(val_data_x)[:,1]\n",
    "y_pred = grid_search_l1.predict(val_data_x)\n",
    "\n",
    "metrics.accuracy_score(val_data_y, y_pred)"
   ]
  },
  {
   "cell_type": "code",
   "execution_count": 14,
   "metadata": {},
   "outputs": [
    {
     "name": "stdout",
     "output_type": "stream",
     "text": [
      "0.5250279457537681\n"
     ]
    },
    {
     "data": {
      "image/png": "[encoded data removed]",
      "text/plain": [
       "<Figure size 640x480 with 1 Axes>"
      ]
     },
     "metadata": {},
     "output_type": "display_data"
    }
   ],
   "source": [
    "fpr, tpr, thresholds = metrics.roc_curve(val_data_y, y_pred_prob_l1)\n",
    "roc_auc = metrics.auc(fpr, tpr)\n",
    "print(roc_auc)\n",
    "plt.figure()\n",
    "plt.plot(fpr, tpr, color='darkorange', lw=2, label=f'ROC curve (AUC = {roc_auc:.2f})')\n",
    "plt.plot([0, 1], [0, 1], color='navy', lw=2, linestyle='--')\n",
    "plt.xlim([0.0, 1.0])\n",
    "plt.ylim([0.0, 1.05])\n",
    "plt.xlabel('False Positive Rate')\n",
    "plt.ylabel('True Positive Rate')\n",
    "plt.title('Receiver Operating Characteristic (ROC) Curve')\n",
    "plt.legend(loc='lower right')\n",
    "plt.show()"
   ]
  },
  {
   "cell_type": "code",
   "execution_count": null,
   "metadata": {},
   "outputs": [],
   "source": []
  },
  {
   "cell_type": "code",
   "execution_count": 25,
   "metadata": {},
   "outputs": [
    {
     "data": {
      "text/plain": [
       "array([[399179,      0],\n",
       "       [  5949,      0]])"
      ]
     },
     "execution_count": 25,
     "metadata": {},
     "output_type": "execute_result"
    }
   ],
   "source": [
    "conf_matrix_l1 = metrics.confusion_matrix(val_data_y, y_pred)\n",
    "conf_matrix_l1"
   ]
  },
  {
   "cell_type": "code",
   "execution_count": 16,
   "metadata": {},
   "outputs": [],
   "source": [
    "\n"
   ]
  },
  {
   "cell_type": "code",
   "execution_count": 26,
   "metadata": {},
   "outputs": [
    {
     "data": {
      "image/png": "[encoded data removed]",
      "text/plain": [
       "<Figure size 800x600 with 1 Axes>"
      ]
     },
     "metadata": {},
     "output_type": "display_data"
    }
   ],
   "source": [
    "precision, recall, thresholds = precision_recall_curve(val_data_y, y_pred_prob_l1)\n",
    "\n",
    "# Calculate the area under the precision-recall curve (AUC-PR)\n",
    "average_precision = average_precision_score(val_data_y, y_pred_prob_l1)\n",
    "\n",
    "# Plot the precision-recall curve\n",
    "plt.figure(figsize=(8, 6))\n",
    "plt.plot(recall, precision, marker='.')\n",
    "plt.xlabel('Recall')\n",
    "plt.ylabel('Precision')\n",
    "plt.title('Precision-Recall Curve (AUC-PR = {:.2f})'.format(average_precision))\n",
    "plt.grid()\n",
    "plt.show()"
   ]
  },
  {
   "cell_type": "code",
   "execution_count": 31,
   "metadata": {},
   "outputs": [
    {
     "data": {
      "text/html": [
       "<div>\n",
       "<style scoped>\n",
       "    .dataframe tbody tr th:only-of-type {\n",
       "        vertical-align: middle;\n",
       "    }\n",
       "\n",
       "    .dataframe tbody tr th {\n",
       "        vertical-align: top;\n",
       "    }\n",
       "\n",
       "    .dataframe thead th {\n",
       "        text-align: right;\n",
       "    }\n",
       "</style>\n",
       "<table border=\"1\" class=\"dataframe\">\n",
       "  <thead>\n",
       "    <tr style=\"text-align: right;\">\n",
       "      <th></th>\n",
       "      <th>outcome</th>\n",
       "      <th>variant_id</th>\n",
       "      <th>order_id</th>\n",
       "      <th>user_id</th>\n",
       "      <th>product_type</th>\n",
       "      <th>order_date</th>\n",
       "      <th>user_order_seq</th>\n",
       "      <th>ordered_before</th>\n",
       "      <th>abandoned_before</th>\n",
       "      <th>active_snoozed</th>\n",
       "      <th>...</th>\n",
       "      <th>count_children</th>\n",
       "      <th>count_babies</th>\n",
       "      <th>count_pets</th>\n",
       "      <th>people_ex_baby</th>\n",
       "      <th>days_since_purchase_variant_id</th>\n",
       "      <th>avg_days_to_buy_variant_id</th>\n",
       "      <th>std_days_to_buy_variant_id</th>\n",
       "      <th>days_since_purchase_product_type</th>\n",
       "      <th>avg_days_to_buy_product_type</th>\n",
       "      <th>std_days_to_buy_product_type</th>\n",
       "    </tr>\n",
       "  </thead>\n",
       "  <tbody>\n",
       "    <tr>\n",
       "      <th>591213</th>\n",
       "      <td>0</td>\n",
       "      <td>33667282075780</td>\n",
       "      <td>2861168459908</td>\n",
       "      <td>3815052968068</td>\n",
       "      <td>31593</td>\n",
       "      <td>1.606867e+09</td>\n",
       "      <td>2</td>\n",
       "      <td>0.0</td>\n",
       "      <td>0.0</td>\n",
       "      <td>0.0</td>\n",
       "      <td>...</td>\n",
       "      <td>0.0</td>\n",
       "      <td>0.0</td>\n",
       "      <td>0.0</td>\n",
       "      <td>2.0</td>\n",
       "      <td>33.0</td>\n",
       "      <td>36.0</td>\n",
       "      <td>28.786199</td>\n",
       "      <td>27.0</td>\n",
       "      <td>30.0</td>\n",
       "      <td>24.688701</td>\n",
       "    </tr>\n",
       "    <tr>\n",
       "      <th>1100617</th>\n",
       "      <td>0</td>\n",
       "      <td>34086450987140</td>\n",
       "      <td>2887443120260</td>\n",
       "      <td>3874925314180</td>\n",
       "      <td>51266</td>\n",
       "      <td>1.609632e+09</td>\n",
       "      <td>2</td>\n",
       "      <td>0.0</td>\n",
       "      <td>0.0</td>\n",
       "      <td>0.0</td>\n",
       "      <td>...</td>\n",
       "      <td>0.0</td>\n",
       "      <td>0.0</td>\n",
       "      <td>0.0</td>\n",
       "      <td>2.0</td>\n",
       "      <td>33.0</td>\n",
       "      <td>54.0</td>\n",
       "      <td>34.910030</td>\n",
       "      <td>30.0</td>\n",
       "      <td>36.0</td>\n",
       "      <td>28.268085</td>\n",
       "    </tr>\n",
       "    <tr>\n",
       "      <th>2007369</th>\n",
       "      <td>0</td>\n",
       "      <td>33667185016964</td>\n",
       "      <td>2885305139332</td>\n",
       "      <td>3745761755268</td>\n",
       "      <td>54442</td>\n",
       "      <td>1.609286e+09</td>\n",
       "      <td>3</td>\n",
       "      <td>0.0</td>\n",
       "      <td>0.0</td>\n",
       "      <td>0.0</td>\n",
       "      <td>...</td>\n",
       "      <td>0.0</td>\n",
       "      <td>0.0</td>\n",
       "      <td>0.0</td>\n",
       "      <td>2.0</td>\n",
       "      <td>33.0</td>\n",
       "      <td>37.0</td>\n",
       "      <td>20.293677</td>\n",
       "      <td>30.0</td>\n",
       "      <td>36.0</td>\n",
       "      <td>29.372186</td>\n",
       "    </tr>\n",
       "    <tr>\n",
       "      <th>2600832</th>\n",
       "      <td>0</td>\n",
       "      <td>34284953796740</td>\n",
       "      <td>2920192966788</td>\n",
       "      <td>3898440056964</td>\n",
       "      <td>45381</td>\n",
       "      <td>1.613088e+09</td>\n",
       "      <td>2</td>\n",
       "      <td>0.0</td>\n",
       "      <td>0.0</td>\n",
       "      <td>0.0</td>\n",
       "      <td>...</td>\n",
       "      <td>0.0</td>\n",
       "      <td>0.0</td>\n",
       "      <td>0.0</td>\n",
       "      <td>2.0</td>\n",
       "      <td>33.0</td>\n",
       "      <td>37.5</td>\n",
       "      <td>30.297336</td>\n",
       "      <td>30.0</td>\n",
       "      <td>24.0</td>\n",
       "      <td>26.048133</td>\n",
       "    </tr>\n",
       "    <tr>\n",
       "      <th>1096726</th>\n",
       "      <td>0</td>\n",
       "      <td>34137389105284</td>\n",
       "      <td>2868033257604</td>\n",
       "      <td>3766058123396</td>\n",
       "      <td>114978</td>\n",
       "      <td>1.607472e+09</td>\n",
       "      <td>3</td>\n",
       "      <td>0.0</td>\n",
       "      <td>0.0</td>\n",
       "      <td>0.0</td>\n",
       "      <td>...</td>\n",
       "      <td>0.0</td>\n",
       "      <td>0.0</td>\n",
       "      <td>0.0</td>\n",
       "      <td>2.0</td>\n",
       "      <td>33.0</td>\n",
       "      <td>45.0</td>\n",
       "      <td>29.815304</td>\n",
       "      <td>30.0</td>\n",
       "      <td>32.0</td>\n",
       "      <td>28.189363</td>\n",
       "    </tr>\n",
       "    <tr>\n",
       "      <th>...</th>\n",
       "      <td>...</td>\n",
       "      <td>...</td>\n",
       "      <td>...</td>\n",
       "      <td>...</td>\n",
       "      <td>...</td>\n",
       "      <td>...</td>\n",
       "      <td>...</td>\n",
       "      <td>...</td>\n",
       "      <td>...</td>\n",
       "      <td>...</td>\n",
       "      <td>...</td>\n",
       "      <td>...</td>\n",
       "      <td>...</td>\n",
       "      <td>...</td>\n",
       "      <td>...</td>\n",
       "      <td>...</td>\n",
       "      <td>...</td>\n",
       "      <td>...</td>\n",
       "      <td>...</td>\n",
       "      <td>...</td>\n",
       "      <td>...</td>\n",
       "    </tr>\n",
       "    <tr>\n",
       "      <th>2860233</th>\n",
       "      <td>1</td>\n",
       "      <td>34304342851716</td>\n",
       "      <td>2827489443972</td>\n",
       "      <td>3765099954308</td>\n",
       "      <td>10120</td>\n",
       "      <td>1.603930e+09</td>\n",
       "      <td>2</td>\n",
       "      <td>0.0</td>\n",
       "      <td>0.0</td>\n",
       "      <td>0.0</td>\n",
       "      <td>...</td>\n",
       "      <td>0.0</td>\n",
       "      <td>0.0</td>\n",
       "      <td>0.0</td>\n",
       "      <td>2.0</td>\n",
       "      <td>33.0</td>\n",
       "      <td>47.0</td>\n",
       "      <td>31.017468</td>\n",
       "      <td>30.0</td>\n",
       "      <td>39.0</td>\n",
       "      <td>35.641908</td>\n",
       "    </tr>\n",
       "    <tr>\n",
       "      <th>2860234</th>\n",
       "      <td>1</td>\n",
       "      <td>34304342851716</td>\n",
       "      <td>2827551244420</td>\n",
       "      <td>3513667223684</td>\n",
       "      <td>10120</td>\n",
       "      <td>1.603930e+09</td>\n",
       "      <td>4</td>\n",
       "      <td>0.0</td>\n",
       "      <td>0.0</td>\n",
       "      <td>0.0</td>\n",
       "      <td>...</td>\n",
       "      <td>0.0</td>\n",
       "      <td>0.0</td>\n",
       "      <td>0.0</td>\n",
       "      <td>2.0</td>\n",
       "      <td>33.0</td>\n",
       "      <td>47.0</td>\n",
       "      <td>31.017468</td>\n",
       "      <td>30.0</td>\n",
       "      <td>39.0</td>\n",
       "      <td>35.641908</td>\n",
       "    </tr>\n",
       "    <tr>\n",
       "      <th>2860261</th>\n",
       "      <td>1</td>\n",
       "      <td>34304342851716</td>\n",
       "      <td>2829221494916</td>\n",
       "      <td>3784403714180</td>\n",
       "      <td>10120</td>\n",
       "      <td>1.604102e+09</td>\n",
       "      <td>2</td>\n",
       "      <td>0.0</td>\n",
       "      <td>0.0</td>\n",
       "      <td>0.0</td>\n",
       "      <td>...</td>\n",
       "      <td>0.0</td>\n",
       "      <td>0.0</td>\n",
       "      <td>0.0</td>\n",
       "      <td>2.0</td>\n",
       "      <td>33.0</td>\n",
       "      <td>47.0</td>\n",
       "      <td>31.017468</td>\n",
       "      <td>30.0</td>\n",
       "      <td>39.0</td>\n",
       "      <td>35.641908</td>\n",
       "    </tr>\n",
       "    <tr>\n",
       "      <th>2863549</th>\n",
       "      <td>1</td>\n",
       "      <td>33826433859716</td>\n",
       "      <td>2823601127556</td>\n",
       "      <td>3469897564292</td>\n",
       "      <td>20585</td>\n",
       "      <td>1.603411e+09</td>\n",
       "      <td>2</td>\n",
       "      <td>0.0</td>\n",
       "      <td>0.0</td>\n",
       "      <td>0.0</td>\n",
       "      <td>...</td>\n",
       "      <td>0.0</td>\n",
       "      <td>0.0</td>\n",
       "      <td>0.0</td>\n",
       "      <td>2.0</td>\n",
       "      <td>33.0</td>\n",
       "      <td>82.0</td>\n",
       "      <td>44.243644</td>\n",
       "      <td>30.0</td>\n",
       "      <td>38.5</td>\n",
       "      <td>31.832738</td>\n",
       "    </tr>\n",
       "    <tr>\n",
       "      <th>2863654</th>\n",
       "      <td>1</td>\n",
       "      <td>33826433859716</td>\n",
       "      <td>2829871546500</td>\n",
       "      <td>3771764834436</td>\n",
       "      <td>20585</td>\n",
       "      <td>1.604189e+09</td>\n",
       "      <td>3</td>\n",
       "      <td>0.0</td>\n",
       "      <td>0.0</td>\n",
       "      <td>0.0</td>\n",
       "      <td>...</td>\n",
       "      <td>0.0</td>\n",
       "      <td>0.0</td>\n",
       "      <td>0.0</td>\n",
       "      <td>2.0</td>\n",
       "      <td>33.0</td>\n",
       "      <td>82.0</td>\n",
       "      <td>44.243644</td>\n",
       "      <td>30.0</td>\n",
       "      <td>38.5</td>\n",
       "      <td>31.832738</td>\n",
       "    </tr>\n",
       "  </tbody>\n",
       "</table>\n",
       "<p>42868 rows × 26 columns</p>\n",
       "</div>"
      ],
      "text/plain": [
       "         outcome      variant_id       order_id        user_id  product_type  \\\n",
       "591213         0  33667282075780  2861168459908  3815052968068         31593   \n",
       "1100617        0  34086450987140  2887443120260  3874925314180         51266   \n",
       "2007369        0  33667185016964  2885305139332  3745761755268         54442   \n",
       "2600832        0  34284953796740  2920192966788  3898440056964         45381   \n",
       "1096726        0  34137389105284  2868033257604  3766058123396        114978   \n",
       "...          ...             ...            ...            ...           ...   \n",
       "2860233        1  34304342851716  2827489443972  3765099954308         10120   \n",
       "2860234        1  34304342851716  2827551244420  3513667223684         10120   \n",
       "2860261        1  34304342851716  2829221494916  3784403714180         10120   \n",
       "2863549        1  33826433859716  2823601127556  3469897564292         20585   \n",
       "2863654        1  33826433859716  2829871546500  3771764834436         20585   \n",
       "\n",
       "           order_date  user_order_seq  ordered_before  abandoned_before  \\\n",
       "591213   1.606867e+09               2             0.0               0.0   \n",
       "1100617  1.609632e+09               2             0.0               0.0   \n",
       "2007369  1.609286e+09               3             0.0               0.0   \n",
       "2600832  1.613088e+09               2             0.0               0.0   \n",
       "1096726  1.607472e+09               3             0.0               0.0   \n",
       "...               ...             ...             ...               ...   \n",
       "2860233  1.603930e+09               2             0.0               0.0   \n",
       "2860234  1.603930e+09               4             0.0               0.0   \n",
       "2860261  1.604102e+09               2             0.0               0.0   \n",
       "2863549  1.603411e+09               2             0.0               0.0   \n",
       "2863654  1.604189e+09               3             0.0               0.0   \n",
       "\n",
       "         active_snoozed  ...  count_children  count_babies  count_pets  \\\n",
       "591213              0.0  ...             0.0           0.0         0.0   \n",
       "1100617             0.0  ...             0.0           0.0         0.0   \n",
       "2007369             0.0  ...             0.0           0.0         0.0   \n",
       "2600832             0.0  ...             0.0           0.0         0.0   \n",
       "1096726             0.0  ...             0.0           0.0         0.0   \n",
       "...                 ...  ...             ...           ...         ...   \n",
       "2860233             0.0  ...             0.0           0.0         0.0   \n",
       "2860234             0.0  ...             0.0           0.0         0.0   \n",
       "2860261             0.0  ...             0.0           0.0         0.0   \n",
       "2863549             0.0  ...             0.0           0.0         0.0   \n",
       "2863654             0.0  ...             0.0           0.0         0.0   \n",
       "\n",
       "         people_ex_baby  days_since_purchase_variant_id  \\\n",
       "591213              2.0                            33.0   \n",
       "1100617             2.0                            33.0   \n",
       "2007369             2.0                            33.0   \n",
       "2600832             2.0                            33.0   \n",
       "1096726             2.0                            33.0   \n",
       "...                 ...                             ...   \n",
       "2860233             2.0                            33.0   \n",
       "2860234             2.0                            33.0   \n",
       "2860261             2.0                            33.0   \n",
       "2863549             2.0                            33.0   \n",
       "2863654             2.0                            33.0   \n",
       "\n",
       "         avg_days_to_buy_variant_id  std_days_to_buy_variant_id  \\\n",
       "591213                         36.0                   28.786199   \n",
       "1100617                        54.0                   34.910030   \n",
       "2007369                        37.0                   20.293677   \n",
       "2600832                        37.5                   30.297336   \n",
       "1096726                        45.0                   29.815304   \n",
       "...                             ...                         ...   \n",
       "2860233                        47.0                   31.017468   \n",
       "2860234                        47.0                   31.017468   \n",
       "2860261                        47.0                   31.017468   \n",
       "2863549                        82.0                   44.243644   \n",
       "2863654                        82.0                   44.243644   \n",
       "\n",
       "         days_since_purchase_product_type  avg_days_to_buy_product_type  \\\n",
       "591213                               27.0                          30.0   \n",
       "1100617                              30.0                          36.0   \n",
       "2007369                              30.0                          36.0   \n",
       "2600832                              30.0                          24.0   \n",
       "1096726                              30.0                          32.0   \n",
       "...                                   ...                           ...   \n",
       "2860233                              30.0                          39.0   \n",
       "2860234                              30.0                          39.0   \n",
       "2860261                              30.0                          39.0   \n",
       "2863549                              30.0                          38.5   \n",
       "2863654                              30.0                          38.5   \n",
       "\n",
       "         std_days_to_buy_product_type  \n",
       "591213                      24.688701  \n",
       "1100617                     28.268085  \n",
       "2007369                     29.372186  \n",
       "2600832                     26.048133  \n",
       "1096726                     28.189363  \n",
       "...                               ...  \n",
       "2860233                     35.641908  \n",
       "2860234                     35.641908  \n",
       "2860261                     35.641908  \n",
       "2863549                     31.832738  \n",
       "2863654                     31.832738  \n",
       "\n",
       "[42868 rows x 26 columns]"
      ]
     },
     "execution_count": 31,
     "metadata": {},
     "output_type": "execute_result"
    }
   ],
   "source": [
    "from sklearn.utils import resample\n",
    "\n",
    "train_data = df[df['order_id'].isin(train_data_orders)]\n",
    "majority_class = train_data[train_data['outcome'] == 0]\n",
    "minority_class = train_data[train_data['outcome'] == 1]\n",
    "\n",
    "majority_class_undersampled = resample(majority_class, replace=False, n_samples=len(minority_class), random_state=42)\n",
    "\n",
    "# Combine the minority class with the undersampled majority class\n",
    "balanced_df = pd.concat([majority_class_undersampled, minority_class])\n",
    "\n",
    "balanced_df"
   ]
  },
  {
   "cell_type": "code",
   "execution_count": 34,
   "metadata": {},
   "outputs": [
    {
     "name": "stdout",
     "output_type": "stream",
     "text": [
      "{'C': 0.0001, 'penalty': 'l2'}\n"
     ]
    },
    {
     "data": {
      "text/plain": [
       "0.9853157520586087"
      ]
     },
     "execution_count": 34,
     "metadata": {},
     "output_type": "execute_result"
    }
   ],
   "source": [
    "balanced_train_data_x = df[df['order_id'].isin(train_data_orders)].iloc[:,4:]\n",
    "balanced_train_data_y = df[df['order_id'].isin(train_data_orders)].iloc[:,0]\n",
    "\n",
    "param_grid = {\n",
    "    'C': [10 ** i for i in range(-4,2)],\n",
    "    'penalty': ['l2']\n",
    "}\n",
    "\n",
    "log_model_l1 = LogisticRegression(solver='lbfgs',n_jobs=-1, class_weight='balanced')\n",
    "\n",
    "grid_search_l1 = GridSearchCV(log_model_l1, param_grid, cv=5, scoring='accuracy').fit(balanced_train_data_x,balanced_train_data_y)\n",
    "\n",
    "print(grid_search_l1.best_params_)\n",
    "\n",
    "y_pred_prob_l1 = grid_search_l1.predict_proba(val_data_x)[:,1]\n",
    "y_pred = grid_search_l1.predict(val_data_x)\n",
    "\n",
    "metrics.accuracy_score(val_data_y, y_pred)"
   ]
  },
  {
   "cell_type": "code",
   "execution_count": 35,
   "metadata": {},
   "outputs": [
    {
     "name": "stdout",
     "output_type": "stream",
     "text": [
      "0.5250279457537681\n"
     ]
    },
    {
     "data": {
      "image/png": "[encoded data removed]",
      "text/plain": [
       "<Figure size 640x480 with 1 Axes>"
      ]
     },
     "metadata": {},
     "output_type": "display_data"
    }
   ],
   "source": [
    "fpr, tpr, thresholds = metrics.roc_curve(val_data_y, y_pred_prob_l1)\n",
    "roc_auc = metrics.auc(fpr, tpr)\n",
    "print(roc_auc)\n",
    "plt.figure()\n",
    "plt.plot(fpr, tpr, color='darkorange', lw=2, label=f'ROC curve (AUC = {roc_auc:.2f})')\n",
    "plt.plot([0, 1], [0, 1], color='navy', lw=2, linestyle='--')\n",
    "plt.xlim([0.0, 1.0])\n",
    "plt.ylim([0.0, 1.05])\n",
    "plt.xlabel('False Positive Rate')\n",
    "plt.ylabel('True Positive Rate')\n",
    "plt.title('Receiver Operating Characteristic (ROC) Curve')\n",
    "plt.legend(loc='lower right')\n",
    "plt.show()"
   ]
  },
  {
   "cell_type": "code",
   "execution_count": 36,
   "metadata": {},
   "outputs": [
    {
     "data": {
      "text/plain": [
       "array([[399179,      0],\n",
       "       [  5949,      0]])"
      ]
     },
     "execution_count": 36,
     "metadata": {},
     "output_type": "execute_result"
    }
   ],
   "source": [
    "conf_matrix_l1 = metrics.confusion_matrix(val_data_y, y_pred)\n",
    "conf_matrix_l1"
   ]
  },
  {
   "cell_type": "code",
   "execution_count": 38,
   "metadata": {},
   "outputs": [
    {
     "data": {
      "text/plain": [
       "{'mean_fit_time': array([1.7880784 , 1.44479442, 1.30935836, 1.92762914, 2.01452518,\n",
       "        1.96853099]),\n",
       " 'std_fit_time': array([0.3449785 , 0.43726335, 0.54229414, 0.13242939, 0.04739983,\n",
       "        0.02130528]),\n",
       " 'mean_score_time': array([0.03463025, 0.03144879, 0.03171158, 0.0383934 , 0.04381466,\n",
       "        0.03930693]),\n",
       " 'std_score_time': array([0.00667459, 0.00539753, 0.00731328, 0.00436032, 0.00527543,\n",
       "        0.00444767]),\n",
       " 'param_C': masked_array(data=[0.0001, 0.001, 0.01, 0.1, 1, 10],\n",
       "              mask=[False, False, False, False, False, False],\n",
       "        fill_value='?',\n",
       "             dtype=object),\n",
       " 'param_penalty': masked_array(data=['l2', 'l2', 'l2', 'l2', 'l2', 'l2'],\n",
       "              mask=[False, False, False, False, False, False],\n",
       "        fill_value='?',\n",
       "             dtype=object),\n",
       " 'params': [{'C': 0.0001, 'penalty': 'l2'},\n",
       "  {'C': 0.001, 'penalty': 'l2'},\n",
       "  {'C': 0.01, 'penalty': 'l2'},\n",
       "  {'C': 0.1, 'penalty': 'l2'},\n",
       "  {'C': 1, 'penalty': 'l2'},\n",
       "  {'C': 10, 'penalty': 'l2'}],\n",
       " 'split0_test_score': array([0.98485667, 0.98485667, 0.98485667, 0.98485667, 0.98485667,\n",
       "        0.98485667]),\n",
       " 'split1_test_score': array([0.98485667, 0.98485667, 0.98485667, 0.98485667, 0.98485667,\n",
       "        0.98485667]),\n",
       " 'split2_test_score': array([0.98485667, 0.98485667, 0.98485667, 0.98485667, 0.98485667,\n",
       "        0.98485667]),\n",
       " 'split3_test_score': array([0.98485667, 0.98485667, 0.98485667, 0.98485667, 0.98485667,\n",
       "        0.98485667]),\n",
       " 'split4_test_score': array([0.98486015, 0.98486015, 0.98486015, 0.98486015, 0.98486015,\n",
       "        0.98486015]),\n",
       " 'mean_test_score': array([0.98485737, 0.98485737, 0.98485737, 0.98485737, 0.98485737,\n",
       "        0.98485737]),\n",
       " 'std_test_score': array([1.39156135e-06, 1.39156135e-06, 1.39156135e-06, 1.39156135e-06,\n",
       "        1.39156135e-06, 1.39156135e-06]),\n",
       " 'rank_test_score': array([1, 1, 1, 1, 1, 1], dtype=int32)}"
      ]
     },
     "execution_count": 38,
     "metadata": {},
     "output_type": "execute_result"
    }
   ],
   "source": [
    "grid_search_l1.cv_results_"
   ]
  },
  {
   "cell_type": "code",
   "execution_count": 40,
   "metadata": {},
   "outputs": [
    {
     "ename": "AttributeError",
     "evalue": "'numpy.ndarray' object has no attribute 'value_counts'",
     "output_type": "error",
     "traceback": [
      "\u001b[0;31m---------------------------------------------------------------------------\u001b[0m",
      "\u001b[0;31mAttributeError\u001b[0m                            Traceback (most recent call last)",
      "\u001b[1;32m/Users/alvarodda/VS Projects/zrive-ds-branch-3/zrive-ds/src/module_3/assign_3.ipynb Cell 24\u001b[0m line \u001b[0;36m1\n\u001b[0;32m----> <a href='vscode-notebook-cell:/Users/alvarodda/VS%20Projects/zrive-ds-branch-3/zrive-ds/src/module_3/assign_3.ipynb#X34sZmlsZQ%3D%3D?line=0'>1</a>\u001b[0m y_pred_prob_l1\u001b[39m.\u001b[39;49mvalue_counts()\n",
      "\u001b[0;31mAttributeError\u001b[0m: 'numpy.ndarray' object has no attribute 'value_counts'"
     ]
    }
   ],
   "source": [
    "y_pred_prob_l1.value_counts()"
   ]
  },
  {
   "cell_type": "markdown",
   "metadata": {},
   "source": []
  }
 ],
 "metadata": {
  "kernelspec": {
   "display_name": "zrive-ds-hgGXxKZy-py3.11",
   "language": "python",
   "name": "python3"
  },
  "language_info": {
   "codemirror_mode": {
    "name": "ipython",
    "version": 3
   },
   "file_extension": ".py",
   "mimetype": "text/x-python",
   "name": "python",
   "nbconvert_exporter": "python",
   "pygments_lexer": "ipython3",
   "version": "3.11.5"
  },
  "orig_nbformat": 4
 },
 "nbformat": 4,
 "nbformat_minor": 2
}
