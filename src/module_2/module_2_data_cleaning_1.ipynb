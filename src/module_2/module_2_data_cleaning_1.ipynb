{
 "cells": [
  {
   "cell_type": "code",
   "execution_count": null,
   "metadata": {},
   "outputs": [],
   "source": [
    "import os\n",
    "import pyarrow.parquet as pq\n",
    "import pandas as pd\n",
    "\n",
    "\n",
    "abandoned_df = pq.read_table(\"src/module_2/Datasets_Zrive/abandoned_carts.parquet\").to_pandas()\n",
    "inventory_df = pq.read_table(\"src/module_2/Datasets_Zrive/inventory.parquet\").to_pandas()\n",
    "orders_df = pq.read_table(\"src/module_2/Datasets_Zrive/orders.parquet\").to_pandas()\n",
    "regulars_df = pq.read_table(\"src/module_2/Datasets_Zrive/regulars.parquet\").to_pandas()\n",
    "users_Df = pq.read_table(\"src/module_2/Datasets_Zrive/users.parquet\").to_pandas()"
   ]
  },
  {
   "cell_type": "code",
   "execution_count": null,
   "metadata": {},
   "outputs": [],
   "source": []
  },
  {
   "cell_type": "code",
   "execution_count": null,
   "metadata": {},
   "outputs": [],
   "source": []
  },
  {
   "cell_type": "code",
   "execution_count": null,
   "metadata": {},
   "outputs": [],
   "source": []
  }
 ],
 "metadata": {
  "language_info": {
   "name": "python"
  },
  "orig_nbformat": 4
 },
 "nbformat": 4,
 "nbformat_minor": 2
}
