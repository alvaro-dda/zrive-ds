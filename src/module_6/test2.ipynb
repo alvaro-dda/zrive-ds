{
 "cells": [
  {
   "cell_type": "code",
   "execution_count": 1,
   "metadata": {},
   "outputs": [
    {
     "name": "stderr",
     "output_type": "stream",
     "text": [
      "/Users/alvarodda/Library/Caches/pypoetry/virtualenvs/zrive-ds-Ouzhw2sE-py3.11/lib/python3.11/site-packages/sklearn/base.py:348: InconsistentVersionWarning: Trying to unpickle estimator DecisionTreeRegressor from version 1.3.1 when using version 1.3.2. This might lead to breaking code or invalid results. Use at your own risk. For more info please refer to:\n",
      "https://scikit-learn.org/stable/model_persistence.html#security-maintainability-limitations\n",
      "  warnings.warn(\n",
      "/Users/alvarodda/Library/Caches/pypoetry/virtualenvs/zrive-ds-Ouzhw2sE-py3.11/lib/python3.11/site-packages/sklearn/base.py:348: InconsistentVersionWarning: Trying to unpickle estimator RandomForestRegressor from version 1.3.1 when using version 1.3.2. This might lead to breaking code or invalid results. Use at your own risk. For more info please refer to:\n",
      "https://scikit-learn.org/stable/model_persistence.html#security-maintainability-limitations\n",
      "  warnings.warn(\n"
     ]
    }
   ],
   "source": [
    "#Tests\n",
    "from basket_model import BasketModel\n",
    "from feature_store import FeatureStore\n",
    "loaded_model = BasketModel()\n",
    "loaded_feature_store = FeatureStore()\n"
   ]
  },
  {
   "cell_type": "code",
   "execution_count": 2,
   "metadata": {},
   "outputs": [],
   "source": [
    "def predict_outcome(user_id):\n",
    "    features = loaded_feature_store.get_features(str(user_id))\n",
    "    print(features)\n",
    "    prediction = loaded_model.predict(features)\n",
    "    return {\"prediction\": prediction}"
   ]
  },
  {
   "cell_type": "code",
   "execution_count": 24,
   "metadata": {},
   "outputs": [
    {
     "name": "stdout",
     "output_type": "stream",
     "text": [
      "                                                    prior_basket_value  \\\n",
      "user_id                                                                  \n",
      "004b3e3cb9a9f5b0974ce4179db394057c72e7a82077bfe...           81.995568   \n",
      "004b3e3cb9a9f5b0974ce4179db394057c72e7a82077bfe...           37.844108   \n",
      "\n",
      "                                                    prior_item_count  \\\n",
      "user_id                                                                \n",
      "004b3e3cb9a9f5b0974ce4179db394057c72e7a82077bfe...                13   \n",
      "004b3e3cb9a9f5b0974ce4179db394057c72e7a82077bfe...                 6   \n",
      "\n",
      "                                                    prior_regulars_count  \\\n",
      "user_id                                                                    \n",
      "004b3e3cb9a9f5b0974ce4179db394057c72e7a82077bfe...                     0   \n",
      "004b3e3cb9a9f5b0974ce4179db394057c72e7a82077bfe...                     0   \n",
      "\n",
      "                                                    regulars_count  \n",
      "user_id                                                             \n",
      "004b3e3cb9a9f5b0974ce4179db394057c72e7a82077bfe...               0  \n",
      "004b3e3cb9a9f5b0974ce4179db394057c72e7a82077bfe...               0  \n"
     ]
    },
    {
     "name": "stderr",
     "output_type": "stream",
     "text": [
      "/Users/alvarodda/Library/Caches/pypoetry/virtualenvs/zrive-ds-Ouzhw2sE-py3.11/lib/python3.11/site-packages/sklearn/base.py:458: UserWarning: X has feature names, but RandomForestRegressor was fitted without feature names\n",
      "  warnings.warn(\n"
     ]
    },
    {
     "data": {
      "text/plain": [
       "{'prediction': array([39.47007673, 40.63524505])}"
      ]
     },
     "execution_count": 24,
     "metadata": {},
     "output_type": "execute_result"
    }
   ],
   "source": [
    "example_user_id = \"004b3e3cb9a9f5b0974ce4179db394057c72e7a82077bfe6a28af9e6306ebc51b0d8c5c8bd4c9b59ebb3237827df723745c1374d12ad2053e0131edc184df17d\"\n",
    "predict_outcome(example_user_id)"
   ]
  },
  {
   "cell_type": "code",
   "execution_count": 4,
   "metadata": {},
   "outputs": [
    {
     "data": {
      "text/html": [
       "<div>\n",
       "<style scoped>\n",
       "    .dataframe tbody tr th:only-of-type {\n",
       "        vertical-align: middle;\n",
       "    }\n",
       "\n",
       "    .dataframe tbody tr th {\n",
       "        vertical-align: top;\n",
       "    }\n",
       "\n",
       "    .dataframe thead th {\n",
       "        text-align: right;\n",
       "    }\n",
       "</style>\n",
       "<table border=\"1\" class=\"dataframe\">\n",
       "  <thead>\n",
       "    <tr style=\"text-align: right;\">\n",
       "      <th></th>\n",
       "      <th>prior_basket_value</th>\n",
       "      <th>prior_item_count</th>\n",
       "      <th>prior_regulars_count</th>\n",
       "      <th>regulars_count</th>\n",
       "    </tr>\n",
       "    <tr>\n",
       "      <th>user_id</th>\n",
       "      <th></th>\n",
       "      <th></th>\n",
       "      <th></th>\n",
       "      <th></th>\n",
       "    </tr>\n",
       "  </thead>\n",
       "  <tbody>\n",
       "    <tr>\n",
       "      <th>004b3e3cb9a9f5b0974ce4179db394057c72e7a82077bfe6a28af9e6306ebc51b0d8c5c8bd4c9b59ebb3237827df723745c1374d12ad2053e0131edc184df17d</th>\n",
       "      <td>81.995568</td>\n",
       "      <td>13</td>\n",
       "      <td>0</td>\n",
       "      <td>0</td>\n",
       "    </tr>\n",
       "    <tr>\n",
       "      <th>004b3e3cb9a9f5b0974ce4179db394057c72e7a82077bfe6a28af9e6306ebc51b0d8c5c8bd4c9b59ebb3237827df723745c1374d12ad2053e0131edc184df17d</th>\n",
       "      <td>37.844108</td>\n",
       "      <td>6</td>\n",
       "      <td>0</td>\n",
       "      <td>0</td>\n",
       "    </tr>\n",
       "    <tr>\n",
       "      <th>00627d42e86f040cf18f42cafff5aaeed9f2c352518054b02571f864561e436d0eefe0ab92c20e90d8495aa177d30446f1b06ccae994c5085a4908ac3ed58e59</th>\n",
       "      <td>81.995568</td>\n",
       "      <td>13</td>\n",
       "      <td>0</td>\n",
       "      <td>0</td>\n",
       "    </tr>\n",
       "    <tr>\n",
       "      <th>00627d42e86f040cf18f42cafff5aaeed9f2c352518054b02571f864561e436d0eefe0ab92c20e90d8495aa177d30446f1b06ccae994c5085a4908ac3ed58e59</th>\n",
       "      <td>56.766163</td>\n",
       "      <td>9</td>\n",
       "      <td>0</td>\n",
       "      <td>0</td>\n",
       "    </tr>\n",
       "    <tr>\n",
       "      <th>01100497b37c83e8efc66fda25cd248c20448e9a69b798c9cc15775769a3ef2687f4e159d667642f311a91e688f22016666dbdf50c30570f7dc20f17367e03fb</th>\n",
       "      <td>44.151460</td>\n",
       "      <td>7</td>\n",
       "      <td>0</td>\n",
       "      <td>0</td>\n",
       "    </tr>\n",
       "    <tr>\n",
       "      <th>...</th>\n",
       "      <td>...</td>\n",
       "      <td>...</td>\n",
       "      <td>...</td>\n",
       "      <td>...</td>\n",
       "    </tr>\n",
       "    <tr>\n",
       "      <th>fffd9f989509e36d1fc3e3e53627d6341482f385052a034a897249a5455c66475dfc78fc8eec13b742ada69537b20dc5b24cc59864ee21c50816f1131cf10527</th>\n",
       "      <td>56.766163</td>\n",
       "      <td>9</td>\n",
       "      <td>5</td>\n",
       "      <td>1</td>\n",
       "    </tr>\n",
       "    <tr>\n",
       "      <th>fffd9f989509e36d1fc3e3e53627d6341482f385052a034a897249a5455c66475dfc78fc8eec13b742ada69537b20dc5b24cc59864ee21c50816f1131cf10527</th>\n",
       "      <td>94.610271</td>\n",
       "      <td>15</td>\n",
       "      <td>1</td>\n",
       "      <td>4</td>\n",
       "    </tr>\n",
       "    <tr>\n",
       "      <th>fffd9f989509e36d1fc3e3e53627d6341482f385052a034a897249a5455c66475dfc78fc8eec13b742ada69537b20dc5b24cc59864ee21c50816f1131cf10527</th>\n",
       "      <td>63.073514</td>\n",
       "      <td>10</td>\n",
       "      <td>4</td>\n",
       "      <td>3</td>\n",
       "    </tr>\n",
       "    <tr>\n",
       "      <th>fffd9f989509e36d1fc3e3e53627d6341482f385052a034a897249a5455c66475dfc78fc8eec13b742ada69537b20dc5b24cc59864ee21c50816f1131cf10527</th>\n",
       "      <td>63.073514</td>\n",
       "      <td>10</td>\n",
       "      <td>3</td>\n",
       "      <td>4</td>\n",
       "    </tr>\n",
       "    <tr>\n",
       "      <th>fffd9f989509e36d1fc3e3e53627d6341482f385052a034a897249a5455c66475dfc78fc8eec13b742ada69537b20dc5b24cc59864ee21c50816f1131cf10527</th>\n",
       "      <td>50.458811</td>\n",
       "      <td>8</td>\n",
       "      <td>4</td>\n",
       "      <td>3</td>\n",
       "    </tr>\n",
       "  </tbody>\n",
       "</table>\n",
       "<p>3790 rows × 4 columns</p>\n",
       "</div>"
      ],
      "text/plain": [
       "                                                    prior_basket_value  \\\n",
       "user_id                                                                  \n",
       "004b3e3cb9a9f5b0974ce4179db394057c72e7a82077bfe...           81.995568   \n",
       "004b3e3cb9a9f5b0974ce4179db394057c72e7a82077bfe...           37.844108   \n",
       "00627d42e86f040cf18f42cafff5aaeed9f2c352518054b...           81.995568   \n",
       "00627d42e86f040cf18f42cafff5aaeed9f2c352518054b...           56.766163   \n",
       "01100497b37c83e8efc66fda25cd248c20448e9a69b798c...           44.151460   \n",
       "...                                                                ...   \n",
       "fffd9f989509e36d1fc3e3e53627d6341482f385052a034...           56.766163   \n",
       "fffd9f989509e36d1fc3e3e53627d6341482f385052a034...           94.610271   \n",
       "fffd9f989509e36d1fc3e3e53627d6341482f385052a034...           63.073514   \n",
       "fffd9f989509e36d1fc3e3e53627d6341482f385052a034...           63.073514   \n",
       "fffd9f989509e36d1fc3e3e53627d6341482f385052a034...           50.458811   \n",
       "\n",
       "                                                    prior_item_count  \\\n",
       "user_id                                                                \n",
       "004b3e3cb9a9f5b0974ce4179db394057c72e7a82077bfe...                13   \n",
       "004b3e3cb9a9f5b0974ce4179db394057c72e7a82077bfe...                 6   \n",
       "00627d42e86f040cf18f42cafff5aaeed9f2c352518054b...                13   \n",
       "00627d42e86f040cf18f42cafff5aaeed9f2c352518054b...                 9   \n",
       "01100497b37c83e8efc66fda25cd248c20448e9a69b798c...                 7   \n",
       "...                                                              ...   \n",
       "fffd9f989509e36d1fc3e3e53627d6341482f385052a034...                 9   \n",
       "fffd9f989509e36d1fc3e3e53627d6341482f385052a034...                15   \n",
       "fffd9f989509e36d1fc3e3e53627d6341482f385052a034...                10   \n",
       "fffd9f989509e36d1fc3e3e53627d6341482f385052a034...                10   \n",
       "fffd9f989509e36d1fc3e3e53627d6341482f385052a034...                 8   \n",
       "\n",
       "                                                    prior_regulars_count  \\\n",
       "user_id                                                                    \n",
       "004b3e3cb9a9f5b0974ce4179db394057c72e7a82077bfe...                     0   \n",
       "004b3e3cb9a9f5b0974ce4179db394057c72e7a82077bfe...                     0   \n",
       "00627d42e86f040cf18f42cafff5aaeed9f2c352518054b...                     0   \n",
       "00627d42e86f040cf18f42cafff5aaeed9f2c352518054b...                     0   \n",
       "01100497b37c83e8efc66fda25cd248c20448e9a69b798c...                     0   \n",
       "...                                                                  ...   \n",
       "fffd9f989509e36d1fc3e3e53627d6341482f385052a034...                     5   \n",
       "fffd9f989509e36d1fc3e3e53627d6341482f385052a034...                     1   \n",
       "fffd9f989509e36d1fc3e3e53627d6341482f385052a034...                     4   \n",
       "fffd9f989509e36d1fc3e3e53627d6341482f385052a034...                     3   \n",
       "fffd9f989509e36d1fc3e3e53627d6341482f385052a034...                     4   \n",
       "\n",
       "                                                    regulars_count  \n",
       "user_id                                                             \n",
       "004b3e3cb9a9f5b0974ce4179db394057c72e7a82077bfe...               0  \n",
       "004b3e3cb9a9f5b0974ce4179db394057c72e7a82077bfe...               0  \n",
       "00627d42e86f040cf18f42cafff5aaeed9f2c352518054b...               0  \n",
       "00627d42e86f040cf18f42cafff5aaeed9f2c352518054b...               0  \n",
       "01100497b37c83e8efc66fda25cd248c20448e9a69b798c...               0  \n",
       "...                                                            ...  \n",
       "fffd9f989509e36d1fc3e3e53627d6341482f385052a034...               1  \n",
       "fffd9f989509e36d1fc3e3e53627d6341482f385052a034...               4  \n",
       "fffd9f989509e36d1fc3e3e53627d6341482f385052a034...               3  \n",
       "fffd9f989509e36d1fc3e3e53627d6341482f385052a034...               4  \n",
       "fffd9f989509e36d1fc3e3e53627d6341482f385052a034...               3  \n",
       "\n",
       "[3790 rows x 4 columns]"
      ]
     },
     "execution_count": 4,
     "metadata": {},
     "output_type": "execute_result"
    }
   ],
   "source": [
    "loaded_feature_store.feature_store"
   ]
  },
  {
   "cell_type": "code",
   "execution_count": 32,
   "metadata": {},
   "outputs": [
    {
     "data": {
      "text/plain": [
       "<Response [422]>"
      ]
     },
     "execution_count": 32,
     "metadata": {},
     "output_type": "execute_result"
    }
   ],
   "source": [
    "import requests\n",
    "import json\n",
    "from fastapi import Body\n",
    "api_url = \"http://0.0.0.0:8000/predict/\"\n",
    "\n",
    "# Make a GET request to the API\n",
    "data = {\"user_id\": example_user_id}\n",
    "\n",
    "# Make a POST request to the API\n",
    "response = requests.post(api_url, data['user_id'])\n",
    "response\n"
   ]
  },
  {
   "cell_type": "code",
   "execution_count": 34,
   "metadata": {},
   "outputs": [
    {
     "data": {
      "text/plain": [
       "<Response [422]>"
      ]
     },
     "execution_count": 34,
     "metadata": {},
     "output_type": "execute_result"
    }
   ],
   "source": [
    "import requests\n",
    "import json\n",
    "from fastapi import Body\n",
    "api_url = \"http://0.0.0.0:8000/predict/\"\n",
    "\n",
    "# Make a GET request to the API\n",
    "data = {\"user_id\": \"004b3e3cb9a9f5b0974ce4179db394057c72e7a82077bfe6a28af9e6306ebc51b0d8c5c8bd4c9b59ebb3237827df723745c1374d12ad2053e0131edc184df17d\"}\n",
    "\n",
    "# Make a POST request to the API\n",
    "response = requests.post(api_url, data=data)\n",
    "response\n"
   ]
  }
 ],
 "metadata": {
  "kernelspec": {
   "display_name": "zrive-ds-Ouzhw2sE-py3.11",
   "language": "python",
   "name": "python3"
  },
  "language_info": {
   "codemirror_mode": {
    "name": "ipython",
    "version": 3
   },
   "file_extension": ".py",
   "mimetype": "text/x-python",
   "name": "python",
   "nbconvert_exporter": "python",
   "pygments_lexer": "ipython3",
   "version": "3.11.5"
  }
 },
 "nbformat": 4,
 "nbformat_minor": 2
}
